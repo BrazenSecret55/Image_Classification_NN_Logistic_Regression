{
  "nbformat": 4,
  "nbformat_minor": 0,
  "metadata": {
    "colab": {
      "name": "Image_Classification_NN_Logistic_Regression.ipynb",
      "provenance": []
    },
    "kernelspec": {
      "name": "python3",
      "display_name": "Python 3"
    }
  },
  "cells": [
    {
      "cell_type": "code",
      "metadata": {
        "id": "ryanoW5XbohP",
        "colab_type": "code",
        "colab": {}
      },
      "source": [
        "import numpy as np\n",
        "import matplotlib.pyplot as plt\n",
        "import h5py\n",
        "import scipy\n",
        "from PIL import Image\n",
        "from scipy import ndimage\n",
        "%matplotlib inline"
      ],
      "execution_count": 0,
      "outputs": []
    },
    {
      "cell_type": "code",
      "metadata": {
        "id": "hCBYKqs3cHgb",
        "colab_type": "code",
        "colab": {}
      },
      "source": [
        "def load_dataset():\n",
        "    train_dataset = h5py.File('/content/train_catvnoncat (1).h5', \"r\")\n",
        "    train_set_x_orig = np.array(train_dataset[\"train_set_x\"][:]) # your train set features\n",
        "    train_set_y_orig = np.array(train_dataset[\"train_set_y\"][:]) # your train set labels\n",
        "\n",
        "    test_dataset = h5py.File('/content/test_catvnoncat (1).h5', \"r\")\n",
        "    test_set_x_orig = np.array(test_dataset[\"test_set_x\"][:]) # your test set features\n",
        "    test_set_y_orig = np.array(test_dataset[\"test_set_y\"][:]) # your test set labels\n",
        "\n",
        "    classes = np.array(test_dataset[\"list_classes\"][:]) # the list of classes\n",
        "    \n",
        "    train_set_y_orig = train_set_y_orig.reshape((1, train_set_y_orig.shape[0]))\n",
        "    test_set_y_orig = test_set_y_orig.reshape((1, test_set_y_orig.shape[0]))\n",
        "    \n",
        "    return train_set_x_orig, train_set_y_orig, test_set_x_orig, test_set_y_orig, classes\n",
        "\n"
      ],
      "execution_count": 0,
      "outputs": []
    },
    {
      "cell_type": "code",
      "metadata": {
        "id": "wpSVqOfac4_2",
        "colab_type": "code",
        "colab": {}
      },
      "source": [
        "train_set_x_orig, train_set_y, test_set_x_orig, test_set_y, classes = load_dataset()"
      ],
      "execution_count": 0,
      "outputs": []
    },
    {
      "cell_type": "code",
      "metadata": {
        "id": "PfZaqMf9diVa",
        "colab_type": "code",
        "colab": {
          "base_uri": "https://localhost:8080/",
          "height": 34
        },
        "outputId": "99836845-a5eb-4d26-fcda-20e1af7b22d9"
      },
      "source": [
        "classes"
      ],
      "execution_count": 105,
      "outputs": [
        {
          "output_type": "execute_result",
          "data": {
            "text/plain": [
              "array([b'non-cat', b'cat'], dtype='|S7')"
            ]
          },
          "metadata": {
            "tags": []
          },
          "execution_count": 105
        }
      ]
    },
    {
      "cell_type": "code",
      "metadata": {
        "id": "uhYJ5XLTdudq",
        "colab_type": "code",
        "colab": {
          "base_uri": "https://localhost:8080/",
          "height": 286
        },
        "outputId": "230f947f-a047-4b97-ee9e-e6b6d735b5c5"
      },
      "source": [
        "plt.imshow(train_set_x_orig[2])"
      ],
      "execution_count": 106,
      "outputs": [
        {
          "output_type": "execute_result",
          "data": {
            "text/plain": [
              "<matplotlib.image.AxesImage at 0x7fc2771fd8d0>"
            ]
          },
          "metadata": {
            "tags": []
          },
          "execution_count": 106
        },
        {
          "output_type": "display_data",
          "data": {
            "image/png": "[encoded data removed]",
            "text/plain": [
              "<Figure size 432x288 with 1 Axes>"
            ]
          },
          "metadata": {
            "tags": []
          }
        }
      ]
    },
    {
      "cell_type": "code",
      "metadata": {
        "id": "q11y1078eCvc",
        "colab_type": "code",
        "colab": {
          "base_uri": "https://localhost:8080/",
          "height": 140
        },
        "outputId": "2ca529a4-5e87-494c-8ad4-4c6246b03fe8"
      },
      "source": [
        "m_train = train_set_x_orig.shape[0]\n",
        "m_test = test_set_x_orig.shape[0]\n",
        "num_px = train_set_x_orig.shape[1]\n",
        "\n",
        "print(\"no. of training example=\" + str(m_train))\n",
        "print(\"no. of test example=\" + str(m_test))\n",
        "print(\"size of picture = (\" + str(num_px) + \",\" + str(num_px) + \",\" + \"3)\")\n",
        "print(train_set_x_orig.shape)\n",
        "print(test_set_x_orig.shape)\n",
        "print(train_set_y.shape)\n",
        "print(test_set_y.shape)"
      ],
      "execution_count": 107,
      "outputs": [
        {
          "output_type": "stream",
          "text": [
            "no. of training example=209\n",
            "no. of test example=50\n",
            "size of picture = (64,64,3)\n",
            "(209, 64, 64, 3)\n",
            "(50, 64, 64, 3)\n",
            "(1, 209)\n",
            "(1, 50)\n"
          ],
          "name": "stdout"
        }
      ]
    },
    {
      "cell_type": "code",
      "metadata": {
        "id": "SevL1THMfoKq",
        "colab_type": "code",
        "colab": {
          "base_uri": "https://localhost:8080/",
          "height": 52
        },
        "outputId": "23115096-434c-4398-e520-a7e72702a07c"
      },
      "source": [
        "# Reshaping the training and test examples\n",
        "train_set_x_flatten = train_set_x_orig.reshape(train_set_x_orig.shape[0], -1).T \n",
        "test_set_x_flatten = test_set_x_orig.reshape(test_set_x_orig.shape[0],-1).T \n",
        "\n",
        "print(train_set_x_flatten.shape)\n",
        "print(test_set_x_flatten.shape)"
      ],
      "execution_count": 108,
      "outputs": [
        {
          "output_type": "stream",
          "text": [
            "(12288, 209)\n",
            "(12288, 50)\n"
          ],
          "name": "stdout"
        }
      ]
    },
    {
      "cell_type": "code",
      "metadata": {
        "id": "uLCTJMz5g4Kj",
        "colab_type": "code",
        "colab": {}
      },
      "source": [
        "#Standardize the training and test set\n",
        "train_set_x = train_set_x_flatten/255\n",
        "test_set_x = test_set_x_flatten/255"
      ],
      "execution_count": 0,
      "outputs": []
    },
    {
      "cell_type": "code",
      "metadata": {
        "id": "EaHsYWePhWHu",
        "colab_type": "code",
        "colab": {}
      },
      "source": [
        "def sigmoid(z):\n",
        "  return 1/ (1+np.exp(-z))"
      ],
      "execution_count": 0,
      "outputs": []
    },
    {
      "cell_type": "code",
      "metadata": {
        "id": "8j2ybUhtiBf9",
        "colab_type": "code",
        "colab": {}
      },
      "source": [
        "# initializing the parameters\n",
        "\n",
        "def initialize_with_zeros(dim):\n",
        "  w = np.zeros((dim,1), dtype=float)\n",
        "  b = 0\n",
        "\n",
        "  assert(w.shape == (dim,1))\n",
        "  assert(isinstance(b,float) or isinstance(b,int))\n",
        "\n",
        "  return w,b"
      ],
      "execution_count": 0,
      "outputs": []
    },
    {
      "cell_type": "code",
      "metadata": {
        "id": "Ed3xJjtZisrN",
        "colab_type": "code",
        "colab": {
          "base_uri": "https://localhost:8080/",
          "height": 70
        },
        "outputId": "e5879900-6d2c-4550-9a2f-5b940dcb2341"
      },
      "source": [
        "dim = 2\n",
        "w, b= initialize_with_zeros(dim)\n",
        "print(\"w=\" +str(w))\n",
        "print(\"b=\" +str(b))"
      ],
      "execution_count": 112,
      "outputs": [
        {
          "output_type": "stream",
          "text": [
            "w=[[0.]\n",
            " [0.]]\n",
            "b=0\n"
          ],
          "name": "stdout"
        }
      ]
    },
    {
      "cell_type": "code",
      "metadata": {
        "id": "-pBDCyymi6AU",
        "colab_type": "code",
        "colab": {}
      },
      "source": [
        "# define a function that computes cost function and its gradients\n",
        "\n",
        "def propagate(w,b,X,y):\n",
        "  m = X.shape[1]\n",
        "  A = sigmoid(np.dot(w.T,X) + b)\n",
        "  cost = (-1/m) * np.sum(y*np.log(A) + (1-y) * np.log(1-A))\n",
        "\n",
        "  #backward propagation (to find grads)\n",
        "  dw = (1/m) * np.dot(X, (A-y).T)\n",
        "  db = (1/m) * np.sum(A-y)\n",
        "\n",
        "  assert(dw.shape == w.shape)\n",
        "  assert(db.dtype == float)\n",
        "  cost = np.squeeze(cost)\n",
        "  assert(cost.shape == ())\n",
        "\n",
        "  grads = {\"dw\" : dw, \"db\" : db}\n",
        "\n",
        "  return cost, grads"
      ],
      "execution_count": 0,
      "outputs": []
    },
    {
      "cell_type": "code",
      "metadata": {
        "id": "l2bK5tw0k4_c",
        "colab_type": "code",
        "colab": {
          "base_uri": "https://localhost:8080/",
          "height": 87
        },
        "outputId": "137d9791-e76f-44af-ba1e-0b75e4dfc677"
      },
      "source": [
        "w,b,X,y = np.array([[1.],[2.]]), 2., np.array([[1., 2., -1.], [3., 4., -3.2]]), np.array([[1,0,1]])\n",
        "\n",
        "cost, grads = propagate(w,b,X,y)\n",
        "print(\"dw=\" +str(grads[\"dw\"]))\n",
        "print(\"db=\" +str(grads[\"db\"]))\n",
        "print(\"cost =\" +str(cost))"
      ],
      "execution_count": 114,
      "outputs": [
        {
          "output_type": "stream",
          "text": [
            "dw=[[0.99845601]\n",
            " [2.39507239]]\n",
            "db=0.001455578136784208\n",
            "cost =5.801545319394553\n"
          ],
          "name": "stdout"
        }
      ]
    },
    {
      "cell_type": "code",
      "metadata": {
        "id": "Q6H8PNmWl2ek",
        "colab_type": "code",
        "colab": {}
      },
      "source": [
        "# optimize\n",
        "\n",
        "def optimize(w, b, X, y, num_iterations, learning_rate, print_cost=False):\n",
        "\n",
        "  costs =[]\n",
        "\n",
        "  for i in range(num_iterations):\n",
        "    cost, grads = propagate(w,b,X,y)\n",
        "    dw = grads[\"dw\"]\n",
        "    db = grads[\"db\"]\n",
        "\n",
        "    w = w - learning_rate*dw\n",
        "    b = b - learning_rate*db\n",
        "\n",
        "    if i%100 == 0:\n",
        "      costs.append(cost)\n",
        "    \n",
        "    if print_cost and i%100 == 0:\n",
        "      print(\"Cost after iteration %i: %f\" %(i,cost))\n",
        "\n",
        "  params = {'w':w, 'b':b}\n",
        "  grads = {'dw':dw, 'db':db}\n",
        "\n",
        "  return params, grads, costs\n"
      ],
      "execution_count": 0,
      "outputs": []
    },
    {
      "cell_type": "code",
      "metadata": {
        "id": "OYgTkdO7oixK",
        "colab_type": "code",
        "colab": {
          "base_uri": "https://localhost:8080/",
          "height": 298
        },
        "outputId": "97e11cdf-ba79-4ccc-ff11-a54bcbb7d936"
      },
      "source": [
        "params, grads, cost = optimize(w, b, X, y, num_iterations=1000, learning_rate= 0.1, print_cost=True)\n",
        "print(\"dw=\" +str(grads['dw']))\n",
        "print(\"db=\" +str(grads['db']))\n",
        "print(\"w=\" +str(params['w']))\n",
        "print(\"b=\" +str(params['b']))"
      ],
      "execution_count": 116,
      "outputs": [
        {
          "output_type": "stream",
          "text": [
            "Cost after iteration 0: 5.801545\n",
            "Cost after iteration 100: 0.310571\n",
            "Cost after iteration 200: 0.257333\n",
            "Cost after iteration 300: 0.218047\n",
            "Cost after iteration 400: 0.188116\n",
            "Cost after iteration 500: 0.164731\n",
            "Cost after iteration 600: 0.146067\n",
            "Cost after iteration 700: 0.130897\n",
            "Cost after iteration 800: 0.118370\n",
            "Cost after iteration 900: 0.107881\n",
            "dw=[[ 0.02361011]\n",
            " [-0.00585942]]\n",
            "db=-0.015164913055170565\n",
            "w=[[-4.09584518]\n",
            " [ 0.39595404]]\n",
            "b=4.567300640760195\n"
          ],
          "name": "stdout"
        }
      ]
    },
    {
      "cell_type": "code",
      "metadata": {
        "id": "jIq-iJpApEZ-",
        "colab_type": "code",
        "colab": {}
      },
      "source": [
        "# predict\n",
        "\n",
        "def predict(w, b, X):\n",
        "  m = X.shape[1]\n",
        "  Y_prediction = np.zeros((1,m))\n",
        "  w = w.reshape(X.shape[0],1)\n",
        "\n",
        "  A = sigmoid(np.dot(w.T, X) + b)\n",
        "  print(A.shape)\n",
        "\n",
        "  for i in range(A.shape[1]):\n",
        "    Y_prediction[0,i] = 1 if A[0,i] > 0.5 else 0\n",
        "\n",
        "  assert(Y_prediction.shape == (1,m))\n",
        "  \n",
        "  return Y_prediction\n",
        "\n",
        "\n"
      ],
      "execution_count": 0,
      "outputs": []
    },
    {
      "cell_type": "code",
      "metadata": {
        "id": "pKwo9Sm_wQP9",
        "colab_type": "code",
        "colab": {
          "base_uri": "https://localhost:8080/",
          "height": 52
        },
        "outputId": "472797e5-d614-4996-e4de-331c0288fadf"
      },
      "source": [
        "w = np.array([[0.1124579],[0.23106775]])\n",
        "b = -0.3\n",
        "X = np.array([[1.,-1.1,-3.2],[1.2,2.,0.1]])\n",
        "print (\"predictions = \" + str(predict(w, b, X)))"
      ],
      "execution_count": 118,
      "outputs": [
        {
          "output_type": "stream",
          "text": [
            "(1, 3)\n",
            "predictions = [[1. 1. 0.]]\n"
          ],
          "name": "stdout"
        }
      ]
    },
    {
      "cell_type": "code",
      "metadata": {
        "id": "4W90DaANx6Bm",
        "colab_type": "code",
        "colab": {}
      },
      "source": [
        "def model(x_train, x_test, y_train, y_test, num_iterations =1000, learning_rate = 0.09, print_cost = False):\n",
        "  w, b = initialize_with_zeros(x_train.shape[0])\n",
        "  parameters, grads, costs = optimize(w, b, x_train, y_train, num_iterations, learning_rate, print_cost)\n",
        "\n",
        "  w = parameters[\"w\"]\n",
        "  b = parameters[\"b\"]\n",
        "\n",
        "  Y_prediction_test = predict(w, b, x_test)\n",
        "  Y_prediction_train = predict(w, b, x_train)\n",
        "  print(\"train accuracy: {} %\".format(100 - np.mean(np.abs(Y_prediction_train - y_train)) * 100))\n",
        "  print(\"test accuracy: {} %\".format(100 - np.mean(np.abs(Y_prediction_test - y_test)) * 100))\n",
        "\n",
        "    \n",
        "  d = {\"costs\": costs,\n",
        "         \"Y_prediction_test\": Y_prediction_test, \n",
        "         \"Y_prediction_train\" : Y_prediction_train, \n",
        "         \"w\" : w, \n",
        "         \"b\" : b,\n",
        "         \"learning_rate\" : learning_rate,\n",
        "         \"num_iterations\": num_iterations}\n",
        "    \n",
        "  return d\n",
        "\n"
      ],
      "execution_count": 0,
      "outputs": []
    },
    {
      "cell_type": "code",
      "metadata": {
        "id": "FLOOAGSgzNlm",
        "colab_type": "code",
        "colab": {
          "base_uri": "https://localhost:8080/",
          "height": 263
        },
        "outputId": "7a1751e9-0680-4489-b3d9-44d6ac79d85e"
      },
      "source": [
        "d = model(train_set_x,test_set_x,train_set_y, test_set_y, num_iterations=1000, learning_rate=0.005, print_cost = True)"
      ],
      "execution_count": 120,
      "outputs": [
        {
          "output_type": "stream",
          "text": [
            "Cost after iteration 0: 0.693147\n",
            "Cost after iteration 100: 0.584508\n",
            "Cost after iteration 200: 0.466949\n",
            "Cost after iteration 300: 0.376007\n",
            "Cost after iteration 400: 0.331463\n",
            "Cost after iteration 500: 0.303273\n",
            "Cost after iteration 600: 0.279880\n",
            "Cost after iteration 700: 0.260042\n",
            "Cost after iteration 800: 0.242941\n",
            "Cost after iteration 900: 0.228004\n",
            "(1, 50)\n",
            "(1, 209)\n",
            "train accuracy: 96.65071770334929 %\n",
            "test accuracy: 72.0 %\n"
          ],
          "name": "stdout"
        }
      ]
    },
    {
      "cell_type": "code",
      "metadata": {
        "id": "45uB8dJRzcFR",
        "colab_type": "code",
        "colab": {
          "base_uri": "https://localhost:8080/",
          "height": 295
        },
        "outputId": "c05bc5d7-d58d-417f-cf41-5156a02b9f64"
      },
      "source": [
        "# Plot learning curve (with costs)\n",
        "costs = np.squeeze(d['costs'])\n",
        "plt.plot(costs)\n",
        "plt.ylabel('cost')\n",
        "plt.xlabel('iterations (per hundreds)')\n",
        "plt.title(\"Learning rate =\" + str(d[\"learning_rate\"]))\n",
        "plt.show()"
      ],
      "execution_count": 121,
      "outputs": [
        {
          "output_type": "display_data",
          "data": {
            "image/png": "[encoded data removed]",
            "text/plain": [
              "<Figure size 432x288 with 1 Axes>"
            ]
          },
          "metadata": {
            "tags": []
          }
        }
      ]
    },
    {
      "cell_type": "code",
      "metadata": {
        "id": "o2m3Ngh01RNi",
        "colab_type": "code",
        "colab": {
          "base_uri": "https://localhost:8080/",
          "height": 702
        },
        "outputId": "29f09630-98d8-4bcb-d48c-86bc136c84e2"
      },
      "source": [
        "learning_rates = [0.01, 0.001, 0.0001]\n",
        "models = {}\n",
        "for i in learning_rates:\n",
        "    print (\"learning rate is: \" + str(i))\n",
        "    models[str(i)] = model(train_set_x, test_set_x, train_set_y, test_set_y, num_iterations = 1500, learning_rate = i, print_cost = False)\n",
        "    print ('\\n' + \"-------------------------------------------------------\" + '\\n')\n",
        "\n",
        "for i in learning_rates:\n",
        "    plt.plot(np.squeeze(models[str(i)][\"costs\"]), label= str(models[str(i)][\"learning_rate\"]))\n",
        "\n",
        "plt.ylabel('cost')\n",
        "plt.xlabel('iterations (hundreds)')\n",
        "\n",
        "legend = plt.legend(loc='upper center', shadow=True)\n",
        "frame = legend.get_frame()\n",
        "frame.set_facecolor('0.90')\n",
        "plt.show()"
      ],
      "execution_count": 123,
      "outputs": [
        {
          "output_type": "stream",
          "text": [
            "learning rate is: 0.01\n",
            "(1, 50)\n",
            "(1, 209)\n",
            "train accuracy: 99.52153110047847 %\n",
            "test accuracy: 68.0 %\n",
            "\n",
            "-------------------------------------------------------\n",
            "\n",
            "learning rate is: 0.001\n",
            "(1, 50)\n",
            "(1, 209)\n",
            "train accuracy: 88.99521531100478 %\n",
            "test accuracy: 64.0 %\n",
            "\n",
            "-------------------------------------------------------\n",
            "\n",
            "learning rate is: 0.0001\n",
            "(1, 50)\n",
            "(1, 209)\n",
            "train accuracy: 68.42105263157895 %\n",
            "test accuracy: 36.0 %\n",
            "\n",
            "-------------------------------------------------------\n",
            "\n"
          ],
          "name": "stdout"
        },
        {
          "output_type": "display_data",
          "data": {
            "image/png": "[encoded data removed]",
            "text/plain": [
              "<Figure size 432x288 with 1 Axes>"
            ]
          },
          "metadata": {
            "tags": []
          }
        }
      ]
    },
    {
      "cell_type": "code",
      "metadata": {
        "id": "jA-c2CWd3Ul2",
        "colab_type": "code",
        "colab": {}
      },
      "source": [
        ""
      ],
      "execution_count": 0,
      "outputs": []
    }
  ]
}